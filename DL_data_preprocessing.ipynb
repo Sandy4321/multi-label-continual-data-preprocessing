{
 "cells": [
  {
   "cell_type": "code",
   "execution_count": 60,
   "metadata": {},
   "outputs": [],
   "source": [
    "import numpy as np\n",
    "import matplotlib.pyplot as plt\n",
    "import cv2"
   ]
  },
  {
   "cell_type": "code",
   "execution_count": 2,
   "metadata": {},
   "outputs": [
    {
     "data": {
      "text/plain": [
       "array([[ 0., -1., -1., -1., -1., -1., -1., -1., -1., -1., -1., -1., -1.,\n",
       "        -1., -1., -1., -1., -1., -1., -1.,  1.],\n",
       "       [ 1., -1., -1., -1., -1., -1., -1., -1., -1., -1., -1., -1., -1.,\n",
       "        -1., -1.,  1., -1., -1., -1.,  1., -1.],\n",
       "       [ 2., -1., -1., -1.,  1., -1., -1., -1., -1., -1., -1., -1., -1.,\n",
       "        -1., -1., -1., -1., -1., -1., -1., -1.],\n",
       "       [ 3., -1., -1., -1., -1., -1., -1., -1., -1., -1., -1., -1., -1.,\n",
       "         1., -1.,  1., -1., -1., -1., -1., -1.],\n",
       "       [ 4., -1., -1., -1., -1., -1., -1., -1., -1., -1.,  1., -1., -1.,\n",
       "        -1., -1., -1., -1., -1., -1., -1., -1.],\n",
       "       [ 5., -1., -1., -1., -1.,  1., -1., -1., -1., -1., -1., -1., -1.,\n",
       "        -1., -1., -1., -1., -1., -1., -1., -1.],\n",
       "       [ 6., -1., -1., -1., -1., -1., -1., -1., -1., -1., -1., -1., -1.,\n",
       "        -1., -1., -1., -1., -1., -1., -1.,  1.],\n",
       "       [ 7., -1., -1., -1., -1., -1., -1., -1., -1., -1., -1., -1.,  1.,\n",
       "        -1., -1., -1., -1., -1., -1., -1., -1.],\n",
       "       [ 8.,  1., -1., -1., -1., -1., -1., -1., -1., -1., -1., -1., -1.,\n",
       "        -1., -1., -1., -1., -1., -1., -1., -1.],\n",
       "       [ 9., -1., -1., -1., -1.,  1., -1., -1., -1., -1., -1., -1., -1.,\n",
       "        -1., -1.,  1., -1., -1., -1., -1.,  1.]])"
      ]
     },
     "execution_count": 2,
     "metadata": {},
     "output_type": "execute_result"
    }
   ],
   "source": [
    "# construct a list 'classes' to store all classes\n",
    "classes = ['aeroplane','bicycle','bird','boat','bottle','bus','car','cat','chair','cow',\\\n",
    "           'diningtable','dog','horse','motorbike','person','pottedplant','sheep','sofa','train','tvmonitor']\n",
    "# load all data to an ndarray 'data'\n",
    "data = np.loadtxt('voc12/'+classes[0]+'_trainval.txt')\n",
    "for classesi in classes[1:20]:\n",
    "    temp = np.loadtxt('voc12/'+classesi+'_trainval.txt')\n",
    "    data = np.concatenate((data,temp),axis=1)\n",
    "# delete the repeated columns in 'data'\n",
    "didx = list(range(0,40,2))\n",
    "data = np.delete(data,didx,axis=1)\n",
    "idx = np.arange(11540).reshape(11540,1) # add indices to each image\n",
    "data = np.concatenate((idx,data),axis=1)\n",
    "data[0:10]\n",
    "# data.shape"
   ]
  },
  {
   "cell_type": "code",
   "execution_count": 3,
   "metadata": {},
   "outputs": [
    {
     "data": {
      "text/plain": [
       "{'aeroplane': 670.0,\n",
       " 'bicycle': 552.0,\n",
       " 'bird': 765.0,\n",
       " 'boat': 508.0,\n",
       " 'bottle': 706.0,\n",
       " 'bus': 421.0,\n",
       " 'car': 1161.0,\n",
       " 'cat': 1080.0,\n",
       " 'chair': 1119.0,\n",
       " 'cow': 303.0,\n",
       " 'diningtable': 538.0,\n",
       " 'dog': 1286.0,\n",
       " 'horse': 482.0,\n",
       " 'motorbike': 526.0,\n",
       " 'person': 4087.0,\n",
       " 'pottedplant': 527.0,\n",
       " 'sheep': 325.0,\n",
       " 'sofa': 507.0,\n",
       " 'train': 544.0,\n",
       " 'tvmonitor': 575.0}"
      ]
     },
     "execution_count": 3,
     "metadata": {},
     "output_type": "execute_result"
    }
   ],
   "source": [
    "# compute the number of positive samples for each class\n",
    "data[data==-1] = 0 \n",
    "nclasses = np.sum(data,axis=0)\n",
    "nclassdict = dict(zip(classes,nclasses[1:21]))\n",
    "nclassdict"
   ]
  },
  {
   "cell_type": "code",
   "execution_count": 4,
   "metadata": {},
   "outputs": [
    {
     "data": {
      "text/plain": [
       "[('person', 4087.0),\n",
       " ('dog', 1286.0),\n",
       " ('car', 1161.0),\n",
       " ('chair', 1119.0),\n",
       " ('cat', 1080.0),\n",
       " ('bird', 765.0),\n",
       " ('bottle', 706.0),\n",
       " ('aeroplane', 670.0),\n",
       " ('tvmonitor', 575.0),\n",
       " ('bicycle', 552.0),\n",
       " ('train', 544.0),\n",
       " ('diningtable', 538.0),\n",
       " ('pottedplant', 527.0),\n",
       " ('motorbike', 526.0),\n",
       " ('boat', 508.0),\n",
       " ('sofa', 507.0),\n",
       " ('horse', 482.0),\n",
       " ('bus', 421.0),\n",
       " ('sheep', 325.0),\n",
       " ('cow', 303.0)]"
      ]
     },
     "execution_count": 4,
     "metadata": {},
     "output_type": "execute_result"
    }
   ],
   "source": [
    "# reorder the dictionary according to the number of items\n",
    "nclassdict0 = sorted(nclassdict.items(), reverse=True, key=lambda item:item[1])\n",
    "nclassdict0\n",
    "# type(nclassdict0)"
   ]
  },
  {
   "cell_type": "code",
   "execution_count": 56,
   "metadata": {},
   "outputs": [
    {
     "name": "stdout",
     "output_type": "stream",
     "text": [
      "[14, 11, 6, 8, 7, 2, 4, 0, 19, 1, 18, 10, 15, 13, 3, 17, 12, 5, 16, 9]\n",
      "16682.0\n"
     ]
    }
   ],
   "source": [
    "classidx = []\n",
    "coverage = 0\n",
    "for value in nclassdict0:\n",
    "    classidx.append(classes.index(value[0]))\n",
    "    coverage += value[1]\n",
    "print(classidx)\n",
    "print(coverage)"
   ]
  },
  {
   "cell_type": "code",
   "execution_count": 6,
   "metadata": {
    "scrolled": false
   },
   "outputs": [
    {
     "data": {
      "text/plain": [
       "(11540, 21)"
      ]
     },
     "execution_count": 6,
     "metadata": {},
     "output_type": "execute_result"
    }
   ],
   "source": [
    "data.shape"
   ]
  },
  {
   "cell_type": "code",
   "execution_count": 7,
   "metadata": {
    "scrolled": false
   },
   "outputs": [],
   "source": [
    "data_labels = data[:,1:]"
   ]
  },
  {
   "cell_type": "code",
   "execution_count": 8,
   "metadata": {},
   "outputs": [],
   "source": [
    "reorder_data_labels = data_labels[:, classidx]"
   ]
  },
  {
   "cell_type": "code",
   "execution_count": 21,
   "metadata": {},
   "outputs": [
    {
     "data": {
      "text/plain": [
       "<matplotlib.image.AxesImage at 0x7fdaee399048>"
      ]
     },
     "execution_count": 21,
     "metadata": {},
     "output_type": "execute_result"
    },
    {
     "data": {
      "image/png": "[encoded data removed]",
      "text/plain": [
       "<Figure size 288x1152 with 1 Axes>"
      ]
     },
     "metadata": {
      "needs_background": "light"
     },
     "output_type": "display_data"
    }
   ],
   "source": [
    "plt.matshow(reorder_data_labels[0:100])"
   ]
  },
  {
   "cell_type": "code",
   "execution_count": 22,
   "metadata": {},
   "outputs": [
    {
     "data": {
      "text/plain": [
       "1286.0"
      ]
     },
     "execution_count": 22,
     "metadata": {},
     "output_type": "execute_result"
    }
   ],
   "source": [
    "sum(reorder_data_labels[:,1])"
   ]
  },
  {
   "cell_type": "code",
   "execution_count": 31,
   "metadata": {},
   "outputs": [],
   "source": [
    "weighted_reorder_data_labels = np.empty_like(reorder_data_labels)\n",
    "for cls_idx in range(20):\n",
    "    weighted_reorder_data_labels[:, cls_idx:cls_idx+1] = reorder_data_labels[:, cls_idx:cls_idx+1] * 2**cls_idx"
   ]
  },
  {
   "cell_type": "code",
   "execution_count": 44,
   "metadata": {},
   "outputs": [],
   "source": [
    "sort_idx= np.argsort(weighted_reorder_data_labels.sum(axis=1))"
   ]
  },
  {
   "cell_type": "code",
   "execution_count": 46,
   "metadata": {},
   "outputs": [],
   "source": [
    "sort_reorder_data_labels = reorder_data_labels[sort_idx,:]"
   ]
  },
  {
   "cell_type": "code",
   "execution_count": 61,
   "metadata": {},
   "outputs": [
    {
     "data": {
      "text/plain": [
       "<matplotlib.image.AxesImage at 0x7fdb3ab66a90>"
      ]
     },
     "execution_count": 61,
     "metadata": {},
     "output_type": "execute_result"
    },
    {
     "data": {
      "image/png": "[encoded data removed]",
      "text/plain": [
       "<Figure size 288x1152 with 1 Axes>"
      ]
     },
     "metadata": {
      "needs_background": "light"
     },
     "output_type": "display_data"
    }
   ],
   "source": [
    "plt.matshow(sort_reorder_data_labels[-100:])"
   ]
  },
  {
   "cell_type": "code",
   "execution_count": 62,
   "metadata": {},
   "outputs": [
    {
     "data": {
      "text/plain": [
       "True"
      ]
     },
     "execution_count": 62,
     "metadata": {},
     "output_type": "execute_result"
    }
   ],
   "source": [
    "cv2.imwrite('sort_reorder_data_labels.png', sort_reorder_data_labels)"
   ]
  },
  {
   "cell_type": "markdown",
   "metadata": {},
   "source": []
  },
  {
   "cell_type": "code",
   "execution_count": 13,
   "metadata": {},
   "outputs": [
    {
     "data": {
      "text/plain": [
       "[['2008_000002'],\n",
       " ['2008_000003'],\n",
       " ['2008_000007'],\n",
       " ['2008_000008'],\n",
       " ['2008_000009'],\n",
       " ['2008_000015'],\n",
       " ['2008_000016'],\n",
       " ['2008_000019'],\n",
       " ['2008_000021'],\n",
       " ['2008_000023']]"
      ]
     },
     "execution_count": 13,
     "metadata": {},
     "output_type": "execute_result"
    }
   ],
   "source": [
    "# import the name/index of each image\n",
    "data0 = []\n",
    "with open('./voc12/trainval.txt', 'r') as file:\n",
    "    datatemp = file.readlines()  \n",
    "    for line in datatemp:\n",
    "        linei = line.split()\n",
    "        data0.append(linei)\n",
    "data0[0:10]\n",
    "# type(data0)"
   ]
  },
  {
   "cell_type": "code",
   "execution_count": 48,
   "metadata": {},
   "outputs": [
    {
     "ename": "TypeError",
     "evalue": "unhashable type: 'list'",
     "output_type": "error",
     "traceback": [
      "\u001b[1;31m---------------------------------------------------------------------------\u001b[0m",
      "\u001b[1;31mTypeError\u001b[0m                                 Traceback (most recent call last)",
      "\u001b[1;32m<ipython-input-48-f9643b68595b>\u001b[0m in \u001b[0;36m<module>\u001b[1;34m()\u001b[0m\n\u001b[1;32m----> 1\u001b[1;33m \u001b[0mdatadict\u001b[0m \u001b[1;33m=\u001b[0m \u001b[0mdict\u001b[0m\u001b[1;33m(\u001b[0m\u001b[0mzip\u001b[0m\u001b[1;33m(\u001b[0m\u001b[0mdata0\u001b[0m\u001b[1;33m,\u001b[0m\u001b[0midx\u001b[0m\u001b[1;33m)\u001b[0m\u001b[1;33m)\u001b[0m\u001b[1;33m\u001b[0m\u001b[0m\n\u001b[0m",
      "\u001b[1;31mTypeError\u001b[0m: unhashable type: 'list'"
     ]
    }
   ],
   "source": [
    "datadict = dict(zip(data0,idx))"
   ]
  },
  {
   "cell_type": "code",
   "execution_count": null,
   "metadata": {},
   "outputs": [],
   "source": []
  }
 ],
 "metadata": {
  "kernelspec": {
   "display_name": "Environment (conda_pytorch41)",
   "language": "python",
   "name": "conda_pytorch41"
  },
  "language_info": {
   "codemirror_mode": {
    "name": "ipython",
    "version": 3
   },
   "file_extension": ".py",
   "mimetype": "text/x-python",
   "name": "python",
   "nbconvert_exporter": "python",
   "pygments_lexer": "ipython3",
   "version": "3.7.0"
  }
 },
 "nbformat": 4,
 "nbformat_minor": 2
}
